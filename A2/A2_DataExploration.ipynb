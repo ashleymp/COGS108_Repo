{
 "cells": [
  {
   "cell_type": "markdown",
   "metadata": {
    "collapsed": true,
    "deletable": false,
    "editable": false,
    "nbgrader": {
     "checksum": "69dc79a98716b6e1164c70b1e4e20d44",
     "grade": false,
     "grade_id": "title",
     "locked": true,
     "schema_version": 1,
     "solution": false
    }
   },
   "source": [
    "# COGS 108 - Assignment 2: Data Exploration"
   ]
  },
  {
   "cell_type": "markdown",
   "metadata": {
    "deletable": false,
    "editable": false,
    "nbgrader": {
     "checksum": "62f82507a52cfbe43178db9021ce907f",
     "grade": false,
     "grade_id": "submission",
     "locked": true,
     "schema_version": 1,
     "solution": false
    }
   },
   "source": [
    "# Important\n",
    "\n",
    "- Rename this file to 'A2_A########.ipynb' (filled in with your student ID) before you submit it. Submit it to TritonED.\n",
    "- This assignment has hidden tests: tests that are not visible here, but that will be run on your submitted. \n",
    "    - This means passing all the tests you can see in the notebook here does not guarantee you have the right answer!"
   ]
  },
  {
   "cell_type": "markdown",
   "metadata": {
    "deletable": false,
    "editable": false,
    "nbgrader": {
     "checksum": "6821f001b3dc5fe9e33600ff076f4328",
     "grade": false,
     "grade_id": "part1",
     "locked": true,
     "schema_version": 1,
     "solution": false
    }
   },
   "source": [
    "## Part 1 - Data Wrangling\n",
    "\n",
    "You are provided with two data files:\n",
    "- age_steps.csv\n",
    "- name_income_id.json"
   ]
  },
  {
   "cell_type": "code",
   "execution_count": 522,
   "metadata": {
    "collapsed": false,
    "deletable": false,
    "editable": false,
    "nbgrader": {
     "checksum": "22fb31f5f77851d56e705ff72fa95b40",
     "grade": false,
     "grade_id": "import",
     "locked": true,
     "schema_version": 1,
     "solution": false
    }
   },
   "outputs": [],
   "source": [
    "# Imports\n",
    "#  Note: these are all the imports you need! Do not import any other functions / packages\n",
    "%matplotlib inline\n",
    "\n",
    "import numpy as np\n",
    "import pandas as pd\n",
    "import matplotlib.pyplot as plt"
   ]
  },
  {
   "cell_type": "code",
   "execution_count": 523,
   "metadata": {
    "collapsed": false,
    "deletable": false,
    "nbgrader": {
     "checksum": "3c02621d463b7c1eaecac2f0bbd60b66",
     "grade": false,
     "grade_id": "load_steps",
     "locked": false,
     "schema_version": 1,
     "solution": true
    }
   },
   "outputs": [],
   "source": [
    "# 1a) Load the csv file into a pandas dataframe. Call it 'df_steps'.\n",
    "csv_file = \"age_steps.csv\"\n",
    "df_steps = pd.read_csv(csv_file)"
   ]
  },
  {
   "cell_type": "code",
   "execution_count": 524,
   "metadata": {
    "collapsed": false,
    "deletable": false,
    "editable": false,
    "nbgrader": {
     "checksum": "e0667cfe5a07dd1e7d56f13ad6fbfc66",
     "grade": true,
     "grade_id": "test_load_steps",
     "locked": true,
     "points": 0.5,
     "schema_version": 1,
     "solution": false
    }
   },
   "outputs": [],
   "source": [
    "assert isinstance(df_steps, pd.DataFrame)\n"
   ]
  },
  {
   "cell_type": "code",
   "execution_count": 525,
   "metadata": {
    "collapsed": true,
    "deletable": false,
    "nbgrader": {
     "checksum": "2b8a21496519a2ad879cd3093f45bdb0",
     "grade": false,
     "grade_id": "load_income",
     "locked": false,
     "schema_version": 1,
     "solution": true
    }
   },
   "outputs": [],
   "source": [
    "# 1b) Load the json file into a (different) pandas dataframe. Call it 'df_income'.\n",
    "\n",
    "json_file = \"name_income_id.json\"\n",
    "df_income = pd.read_json(json_file)"
   ]
  },
  {
   "cell_type": "code",
   "execution_count": 526,
   "metadata": {
    "collapsed": false,
    "deletable": false,
    "editable": false,
    "nbgrader": {
     "checksum": "c4e04f60c0f9949f38f1fcd07c89411b",
     "grade": true,
     "grade_id": "test_load_income",
     "locked": true,
     "points": 0.5,
     "schema_version": 1,
     "solution": false
    }
   },
   "outputs": [],
   "source": [
    "assert isinstance(df_income, pd.DataFrame)\n"
   ]
  },
  {
   "cell_type": "code",
   "execution_count": 527,
   "metadata": {
    "collapsed": false,
    "deletable": false,
    "nbgrader": {
     "checksum": "86475ff829c987f05e15f9f16b8012d6",
     "grade": false,
     "grade_id": "drop_extra_cols",
     "locked": false,
     "schema_version": 1,
     "solution": true
    }
   },
   "outputs": [],
   "source": [
    "# 1c) Drop the 'first_name' and 'last_name' columns from the df_income data frame.\n",
    "df_income = df_income.drop(['first_name','last_name'],axis=1)"
   ]
  },
  {
   "cell_type": "code",
   "execution_count": 528,
   "metadata": {
    "collapsed": false,
    "deletable": false,
    "editable": false,
    "nbgrader": {
     "checksum": "5a2c4056ad20122d1292cb9e2f4d690c",
     "grade": true,
     "grade_id": "test_drop_ext_cols",
     "locked": true,
     "points": 0.25,
     "schema_version": 1,
     "solution": false
    }
   },
   "outputs": [],
   "source": [
    "assert 'first_name' not in df_income.columns\n",
    "assert 'last_name' not in df_income.columns"
   ]
  },
  {
   "cell_type": "code",
   "execution_count": 529,
   "metadata": {
    "collapsed": false,
    "deletable": false,
    "nbgrader": {
     "checksum": "61c26518399260896624fa0bb746c73b",
     "grade": false,
     "grade_id": "merge_dat",
     "locked": false,
     "schema_version": 1,
     "solution": true
    }
   },
   "outputs": [],
   "source": [
    "# 1d) Combine the two dataframes into one combined, new dataframe. Call it 'df'.\n",
    "#  Note: For this part, it doesn't in which order you merge the dataframes.\n",
    "\n",
    "df = pd.merge(df_steps,df_income,how='left',on='id')\n"
   ]
  },
  {
   "cell_type": "code",
   "execution_count": 530,
   "metadata": {
    "collapsed": false,
    "deletable": false,
    "editable": false,
    "nbgrader": {
     "checksum": "55d4d756b58eb2e111cc731356c07560",
     "grade": true,
     "grade_id": "test_merge_dat",
     "locked": true,
     "points": 0.5,
     "schema_version": 1,
     "solution": false
    }
   },
   "outputs": [],
   "source": [
    "assert isinstance(df, pd.DataFrame)\n",
    "assert set(df.columns) == set(['id', 'income', 'age', 'steps'])"
   ]
  },
  {
   "cell_type": "code",
   "execution_count": 531,
   "metadata": {
    "collapsed": true,
    "deletable": false,
    "nbgrader": {
     "checksum": "ccdaa01a42d04e6723ea6b7100e545c1",
     "grade": false,
     "grade_id": "reorder_cols",
     "locked": false,
     "schema_version": 1,
     "solution": true
    }
   },
   "outputs": [],
   "source": [
    "# 1e) Re-Order the Column ID's to be [id, age, steps, income]\n",
    "df = df[['id', 'age', 'steps', 'income']]"
   ]
  },
  {
   "cell_type": "code",
   "execution_count": 532,
   "metadata": {
    "collapsed": false,
    "deletable": false,
    "editable": false,
    "nbgrader": {
     "checksum": "13d0a7341bc145a56fa7926d52d4fb10",
     "grade": true,
     "grade_id": "test_reorder_cols",
     "locked": true,
     "points": 0.25,
     "schema_version": 1,
     "solution": false
    }
   },
   "outputs": [],
   "source": [
    "assert list(df.columns) == ['id', 'age', 'steps', 'income']"
   ]
  },
  {
   "cell_type": "markdown",
   "metadata": {
    "deletable": false,
    "editable": false,
    "nbgrader": {
     "checksum": "2b6ad12e701bd9af0fd51d5e264ad5b7",
     "grade": false,
     "grade_id": "part2",
     "locked": true,
     "schema_version": 1,
     "solution": false
    }
   },
   "source": [
    "## Part 2 - Data Cleaning"
   ]
  },
  {
   "cell_type": "code",
   "execution_count": 533,
   "metadata": {
    "collapsed": false,
    "deletable": false,
    "nbgrader": {
     "checksum": "496e20908b156bc4d51251fb9327508e",
     "grade": false,
     "grade_id": "check_n_nan",
     "locked": false,
     "schema_version": 1,
     "solution": true
    }
   },
   "outputs": [
    {
     "data": {
      "text/plain": [
       "12"
      ]
     },
     "execution_count": 533,
     "metadata": {},
     "output_type": "execute_result"
    }
   ],
   "source": [
    "# 2a) First check how many missing data (NaNs) there are in the income data.\n",
    "#  Save this number into a variable called 'n_nan'\n",
    "\n",
    "n_nan = sum(np.isnan(df['income']))\n",
    "n_nan\n"
   ]
  },
  {
   "cell_type": "code",
   "execution_count": 534,
   "metadata": {
    "collapsed": false,
    "deletable": false,
    "editable": false,
    "nbgrader": {
     "checksum": "dbd6dc51139aca8c6414c1be0d4e5623",
     "grade": true,
     "grade_id": "test_check_n_nan",
     "locked": true,
     "points": 0.25,
     "schema_version": 1,
     "solution": false
    },
    "scrolled": true
   },
   "outputs": [],
   "source": [
    "assert(n_nan)\n"
   ]
  },
  {
   "cell_type": "code",
   "execution_count": 535,
   "metadata": {
    "collapsed": false,
    "deletable": false,
    "nbgrader": {
     "checksum": "e64a0479a7e1ec066b316960bd93aeb4",
     "grade": false,
     "grade_id": "rm_nans",
     "locked": false,
     "schema_version": 1,
     "solution": true
    }
   },
   "outputs": [],
   "source": [
    "# 2b) Remove all rows from df that have missing data (that have NaN values)\n",
    "\n",
    "df = df.dropna()"
   ]
  },
  {
   "cell_type": "code",
   "execution_count": 536,
   "metadata": {
    "collapsed": false,
    "deletable": false,
    "editable": false,
    "nbgrader": {
     "checksum": "a694ed587d1b4a2a057fc22b9f14e0df",
     "grade": true,
     "grade_id": "test_rm_nans",
     "locked": true,
     "points": 0.5,
     "schema_version": 1,
     "solution": false
    },
    "scrolled": true
   },
   "outputs": [],
   "source": [
    "assert(sum(np.isnan(df['income'])) == 0)"
   ]
  },
  {
   "cell_type": "markdown",
   "metadata": {},
   "source": [
    "## Data Visualization\n",
    "\n",
    "- You will be making histograms, check out this example on how to do that.\n",
    "    - http://matplotlib.org/1.2.1/examples/pylab_examples/histogram_demo.html\n",
    "    - This example has more than you need: \n",
    "        - Titles, axis labels, etc are optional (but recommended)\n",
    "        - You do no need to add a 'best fit' line.\n",
    "- Everywhere that we ask you to create a plot, make sure to leave the 'plt.gcf()' line at the end of the cell. \n",
    "    - This is used to get a figure handle in order to programmatically evaluate your plots.\n",
    "- For all your histograms, use 25 bins"
   ]
  },
  {
   "cell_type": "code",
   "execution_count": 537,
   "metadata": {
    "collapsed": false,
    "deletable": false,
    "nbgrader": {
     "checksum": "eb6e639307e07a66ace19325eaa9a32c",
     "grade": false,
     "grade_id": "hist_age",
     "locked": false,
     "schema_version": 1,
     "solution": true
    },
    "scrolled": false
   },
   "outputs": [
    {
     "data": {
      "image/png": "[encoded data removed]",
      "text/plain": [
       "<matplotlib.figure.Figure at 0x2bf40701eb8>"
      ]
     },
     "metadata": {},
     "output_type": "display_data"
    }
   ],
   "source": [
    "# 2c) Plot the histogram of the age variable\n",
    "# YOUR CODE HERE\n",
    "n, bins, patches = plt.hist(df['age'], 25)\n",
    "f1 = plt.gcf()"
   ]
  },
  {
   "cell_type": "code",
   "execution_count": 538,
   "metadata": {
    "collapsed": false,
    "deletable": false,
    "editable": false,
    "nbgrader": {
     "checksum": "4e9cf6d87d402c46c2d5e1fa91eb037f",
     "grade": true,
     "grade_id": "test_hist_age",
     "locked": true,
     "points": 0.25,
     "schema_version": 1,
     "solution": false
    }
   },
   "outputs": [],
   "source": [
    "assert f1.gca().has_data()"
   ]
  },
  {
   "cell_type": "code",
   "execution_count": 539,
   "metadata": {
    "collapsed": false,
    "deletable": false,
    "nbgrader": {
     "checksum": "2d79d3520e514ef73352560a42a07337",
     "grade": false,
     "grade_id": "hist_steps",
     "locked": false,
     "schema_version": 1,
     "solution": true
    }
   },
   "outputs": [
    {
     "data": {
      "image/png": "[encoded data removed]",
      "text/plain": [
       "<matplotlib.figure.Figure at 0x2bf410b1f28>"
      ]
     },
     "metadata": {},
     "output_type": "display_data"
    }
   ],
   "source": [
    "# 2d) Plot the histogram of the steps variable\n",
    "n, bins, patches = plt.hist(df['steps'], 25)\n",
    "f2 = plt.gcf()"
   ]
  },
  {
   "cell_type": "code",
   "execution_count": 540,
   "metadata": {
    "collapsed": false,
    "deletable": false,
    "editable": false,
    "nbgrader": {
     "checksum": "cb0db2db09c74dfd6840559d557f1162",
     "grade": true,
     "grade_id": "test_hist_steps",
     "locked": true,
     "points": 0.25,
     "schema_version": 1,
     "solution": false
    }
   },
   "outputs": [],
   "source": [
    "assert f2.gca().has_data()"
   ]
  },
  {
   "cell_type": "markdown",
   "metadata": {
    "deletable": false,
    "editable": false,
    "nbgrader": {
     "checksum": "358a75710083e3886058c9692056c6ac",
     "grade": false,
     "grade_id": "notice_2",
     "locked": true,
     "schema_version": 1,
     "solution": false
    }
   },
   "source": [
    "### M1 - What do you notice about steps data from the plot?"
   ]
  },
  {
   "cell_type": "markdown",
   "metadata": {
    "deletable": false,
    "nbgrader": {
     "checksum": "16f2ab17d6df8fbde51523dc36b498a1",
     "grade": true,
     "grade_id": "notice_steps",
     "locked": false,
     "points": 0,
     "schema_version": 1,
     "solution": true
    }
   },
   "source": [
    "The steps data from the plot almost demonstrates a normal distribution, except for the fact that there are many items that are very far from the mean."
   ]
  },
  {
   "cell_type": "code",
   "execution_count": 541,
   "metadata": {
    "collapsed": false,
    "deletable": false,
    "nbgrader": {
     "checksum": "65ab8802318288216e18449f9c212a18",
     "grade": false,
     "grade_id": "check_n_neg",
     "locked": false,
     "schema_version": 1,
     "solution": true
    }
   },
   "outputs": [],
   "source": [
    "# 2e) Check how many -1 values there are in steps. Save the number into a variable called 'n_neg'\n",
    "\n",
    "n_neg = len(df.loc[df['steps'] == -1])\n"
   ]
  },
  {
   "cell_type": "code",
   "execution_count": 542,
   "metadata": {
    "collapsed": false,
    "deletable": false,
    "editable": false,
    "nbgrader": {
     "checksum": "3e386afe90eac8c1f14b6faa910016bf",
     "grade": true,
     "grade_id": "test_check_n_neg",
     "locked": true,
     "points": 0.25,
     "schema_version": 1,
     "solution": false
    }
   },
   "outputs": [],
   "source": [
    "assert(n_neg)\n"
   ]
  },
  {
   "cell_type": "code",
   "execution_count": 543,
   "metadata": {
    "collapsed": false,
    "deletable": false,
    "nbgrader": {
     "checksum": "85a1bf09a647b4ba037da86d68c21c5c",
     "grade": false,
     "grade_id": "rm_neg",
     "locked": false,
     "schema_version": 1,
     "solution": true
    }
   },
   "outputs": [
    {
     "data": {
      "text/plain": [
       "(955, 4)"
      ]
     },
     "execution_count": 543,
     "metadata": {},
     "output_type": "execute_result"
    }
   ],
   "source": [
    "# 2f) Remove all rows where steps is equal to -1\n",
    "df = df[df.steps != -1]\n",
    "\n"
   ]
  },
  {
   "cell_type": "code",
   "execution_count": 479,
   "metadata": {
    "collapsed": true,
    "deletable": false,
    "editable": false,
    "nbgrader": {
     "checksum": "d8473272460bc2d35c683d9df56e96e0",
     "grade": true,
     "grade_id": "test_rm_neg",
     "locked": true,
     "points": 0.5,
     "schema_version": 1,
     "solution": false
    }
   },
   "outputs": [],
   "source": [
    "assert -1 not in df['steps']"
   ]
  },
  {
   "cell_type": "code",
   "execution_count": 480,
   "metadata": {
    "collapsed": false,
    "deletable": false,
    "nbgrader": {
     "checksum": "b5d0c38316f6b2563dd1de965b94591c",
     "grade": false,
     "grade_id": "hist_income",
     "locked": false,
     "schema_version": 1,
     "solution": true
    }
   },
   "outputs": [
    {
     "data": {
      "image/png": "[encoded data removed]",
      "text/plain": [
       "<matplotlib.figure.Figure at 0x2bf40c054a8>"
      ]
     },
     "metadata": {},
     "output_type": "display_data"
    }
   ],
   "source": [
    "# 2g) Plot the histogram of the income variable\n",
    "n, bins, patches = plt.hist(df['income'], 25)\n",
    "f3 = plt.gcf()\n"
   ]
  },
  {
   "cell_type": "code",
   "execution_count": 481,
   "metadata": {
    "collapsed": false,
    "deletable": false,
    "editable": false,
    "nbgrader": {
     "checksum": "2c439df6b9ae96ed2b6bebdf4d72f4de",
     "grade": true,
     "grade_id": "test_hist_income",
     "locked": true,
     "points": 0.25,
     "schema_version": 1,
     "solution": false
    }
   },
   "outputs": [],
   "source": [
    "assert f3.gca().has_data()\n"
   ]
  },
  {
   "cell_type": "markdown",
   "metadata": {
    "deletable": false,
    "editable": false,
    "nbgrader": {
     "checksum": "5a123ee818ecc8cdd06be1e0ca4c7a58",
     "grade": false,
     "grade_id": "notice_3",
     "locked": true,
     "schema_version": 1,
     "solution": false
    }
   },
   "source": [
    "### M2 - What do you notice about the income data from the plot?"
   ]
  },
  {
   "cell_type": "markdown",
   "metadata": {
    "deletable": false,
    "nbgrader": {
     "checksum": "151df39a2329241c02a59a6eb3a33ef4",
     "grade": true,
     "grade_id": "notice_income",
     "locked": false,
     "points": 0,
     "schema_version": 1,
     "solution": true
    }
   },
   "source": [
    "YOUR ANSWER HERE"
   ]
  },
  {
   "cell_type": "code",
   "execution_count": 482,
   "metadata": {
    "collapsed": false,
    "deletable": false,
    "nbgrader": {
     "checksum": "098db8ea03ad735ec4fae840e5f1015a",
     "grade": false,
     "grade_id": "recoded_zero",
     "locked": false,
     "schema_version": 1,
     "solution": true
    }
   },
   "outputs": [],
   "source": [
    "# 2h) For all rows in which income is equal to zero, recode income to be equal to 1\n",
    "\n",
    "df.loc[df['income'] == 0, 'income'] = 1\n"
   ]
  },
  {
   "cell_type": "code",
   "execution_count": 483,
   "metadata": {
    "collapsed": false,
    "deletable": false,
    "editable": false,
    "nbgrader": {
     "checksum": "2e1ddcf23bf7dd12312c751d809e888b",
     "grade": true,
     "grade_id": "test_recoded_zero",
     "locked": true,
     "points": 0.5,
     "schema_version": 1,
     "solution": false
    }
   },
   "outputs": [],
   "source": [
    "assert sum(df['income'] == 0.) == 0"
   ]
  },
  {
   "cell_type": "code",
   "execution_count": 484,
   "metadata": {
    "collapsed": false,
    "deletable": false,
    "nbgrader": {
     "checksum": "be9963c6f2eeb679c62008227490b904",
     "grade": false,
     "grade_id": "log",
     "locked": false,
     "schema_version": 1,
     "solution": true
    }
   },
   "outputs": [],
   "source": [
    "# 2i) Transform income using a log10 transform\n",
    "df['income'] = df['income'].apply(lambda x: np.log10(x))\n"
   ]
  },
  {
   "cell_type": "code",
   "execution_count": 485,
   "metadata": {
    "collapsed": false,
    "deletable": false,
    "editable": false,
    "nbgrader": {
     "checksum": "1cdff56e093e2e1531cc5cbcfee6cb29",
     "grade": true,
     "grade_id": "test_log",
     "locked": true,
     "points": 0.5,
     "schema_version": 1,
     "solution": false
    }
   },
   "outputs": [],
   "source": [
    "assert np.isclose(min(df['income']), 0.0, 0.1)\n",
    "assert np.isclose(max(df['income']), 5.69, 0.1)"
   ]
  },
  {
   "cell_type": "code",
   "execution_count": 486,
   "metadata": {
    "collapsed": false,
    "deletable": false,
    "nbgrader": {
     "checksum": "28e716026931524df03b0a00ae518da5",
     "grade": false,
     "grade_id": "replot_log",
     "locked": false,
     "schema_version": 1,
     "solution": true
    }
   },
   "outputs": [
    {
     "data": {
      "image/png": "[encoded data removed]",
      "text/plain": [
       "<matplotlib.figure.Figure at 0x2bf40f940b8>"
      ]
     },
     "metadata": {},
     "output_type": "display_data"
    }
   ],
   "source": [
    "# 2j) Replot the histogram for income data after the data transformation\n",
    "n, bins, patches = plt.hist(df['income'], 25)\n",
    "f4 = plt.gcf()"
   ]
  },
  {
   "cell_type": "code",
   "execution_count": 487,
   "metadata": {
    "collapsed": true,
    "deletable": false,
    "editable": false,
    "nbgrader": {
     "checksum": "57be9958e8c66577dfe33634c1d9957b",
     "grade": true,
     "grade_id": "test_replot_hist",
     "locked": true,
     "points": 0.25,
     "schema_version": 1,
     "solution": false
    }
   },
   "outputs": [],
   "source": [
    "assert f4.gca().has_data()"
   ]
  },
  {
   "cell_type": "markdown",
   "metadata": {
    "deletable": false,
    "editable": false,
    "nbgrader": {
     "checksum": "a38cf49858e45af523c31197603913c2",
     "grade": false,
     "grade_id": "notice_4",
     "locked": true,
     "schema_version": 1,
     "solution": false
    }
   },
   "source": [
    "### M3 - What do you notice about the income data after you replot it?"
   ]
  },
  {
   "cell_type": "markdown",
   "metadata": {
    "deletable": false,
    "nbgrader": {
     "checksum": "ca16717691e5afd8ce66bd10ad6ac316",
     "grade": true,
     "grade_id": "notice_log2",
     "locked": false,
     "points": 0,
     "schema_version": 1,
     "solution": true
    }
   },
   "source": [
    "YOUR ANSWER HERE"
   ]
  },
  {
   "cell_type": "code",
   "execution_count": 488,
   "metadata": {
    "collapsed": false,
    "deletable": false,
    "nbgrader": {
     "checksum": "3021cb2a86ff4a940121ad3cb69f96e6",
     "grade": false,
     "grade_id": "rm_young",
     "locked": false,
     "schema_version": 1,
     "solution": true
    }
   },
   "outputs": [
    {
     "data": {
      "text/plain": [
       "(3, 4)"
      ]
     },
     "execution_count": 488,
     "metadata": {},
     "output_type": "execute_result"
    }
   ],
   "source": [
    "# 2k) Remove all rows where age is less than 18\n",
    "test = df[df['age'] < 18]\n",
    "df = df[df['age'] >= 18]\n"
   ]
  },
  {
   "cell_type": "code",
   "execution_count": 446,
   "metadata": {
    "collapsed": false,
    "deletable": false,
    "editable": false,
    "nbgrader": {
     "checksum": "add9236903fdd871d6f54a713ab7a854",
     "grade": true,
     "grade_id": "test_rm_young",
     "locked": true,
     "points": 0.5,
     "schema_version": 1,
     "solution": false
    }
   },
   "outputs": [],
   "source": [
    "assert min(df['age']) >= 18"
   ]
  },
  {
   "cell_type": "markdown",
   "metadata": {},
   "source": [
    "### Removing outliers\n",
    "Next, we're going to remove all rows where the data for the steps column exceeds +/- 3 standard deviations above or below the mean."
   ]
  },
  {
   "cell_type": "code",
   "execution_count": 447,
   "metadata": {
    "collapsed": false,
    "deletable": false,
    "nbgrader": {
     "checksum": "324d846b598cb12b62ba01fa542fa5c9",
     "grade": false,
     "grade_id": "rm_outliers_setup",
     "locked": false,
     "schema_version": 1,
     "solution": true
    }
   },
   "outputs": [
    {
     "data": {
      "text/plain": [
       "13640.54719305072"
      ]
     },
     "execution_count": 447,
     "metadata": {},
     "output_type": "execute_result"
    }
   ],
   "source": [
    "# 2l) For the steps data: \n",
    "# - Calculate what three times the standard deviation is, and save it to variables called 'std3'. \n",
    "# - Using 'std3', create new variables, called std_max' and 'std_min'.\n",
    "#    These will store our cut-off values: 3 std above and below the mean respectively. \n",
    "\n",
    "mean = np.mean(df['steps'])\n",
    "std3 = (np.std(df['steps'],ddof=1))*3\n",
    "std_max = mean + std3\n",
    "std_min = mean - std3\n",
    "\n",
    "\n",
    "\n"
   ]
  },
  {
   "cell_type": "code",
   "execution_count": 448,
   "metadata": {
    "collapsed": false,
    "deletable": false,
    "editable": false,
    "nbgrader": {
     "checksum": "e031cc7600a395e6b65698b8588f48f8",
     "grade": true,
     "grade_id": "test_rm_outliers_setup",
     "locked": true,
     "points": 0.5,
     "schema_version": 1,
     "solution": false
    }
   },
   "outputs": [],
   "source": [
    "assert(std3)\n",
    "assert(std_min)\n",
    "assert(std_max)\n"
   ]
  },
  {
   "cell_type": "code",
   "execution_count": 454,
   "metadata": {
    "collapsed": false,
    "deletable": false,
    "nbgrader": {
     "checksum": "6ec133f1c5492b744dea37ddd80a1948",
     "grade": false,
     "grade_id": "rm_outliers",
     "locked": false,
     "schema_version": 1,
     "solution": true
    }
   },
   "outputs": [
    {
     "data": {
      "text/plain": [
       "(950, 4)"
      ]
     },
     "execution_count": 454,
     "metadata": {},
     "output_type": "execute_result"
    }
   ],
   "source": [
    "# 2m) Now use these values to remove any rows with steps data above or below these thresholds\n",
    "\n",
    "df = df[df['steps'] > std_min]\n",
    "df = df[df['steps'] < std_max]"
   ]
  },
  {
   "cell_type": "code",
   "execution_count": 450,
   "metadata": {
    "collapsed": false,
    "deletable": false,
    "editable": false,
    "nbgrader": {
     "checksum": "5877a0800b89db45a718ecd9c14753bf",
     "grade": true,
     "grade_id": "tests_rm_outliers",
     "locked": true,
     "points": 0.5,
     "schema_version": 1,
     "solution": false
    }
   },
   "outputs": [],
   "source": [
    "assert min(df['steps']) > 3446\n",
    "assert max(df['steps']) < 30594"
   ]
  },
  {
   "cell_type": "code",
   "execution_count": 451,
   "metadata": {
    "collapsed": false,
    "deletable": false,
    "editable": false,
    "nbgrader": {
     "checksum": "c180a770166c291ea1fe915e62154f23",
     "grade": false,
     "grade_id": "check_data_shape",
     "locked": true,
     "schema_version": 1,
     "solution": false
    }
   },
   "outputs": [
    {
     "ename": "AssertionError",
     "evalue": "",
     "output_type": "error",
     "traceback": [
      "\u001b[0;31m---------------------------------------------------------------------------\u001b[0m",
      "\u001b[0;31mAssertionError\u001b[0m                            Traceback (most recent call last)",
      "\u001b[0;32m<ipython-input-451-12c53223cb0e>\u001b[0m in \u001b[0;36m<module>\u001b[0;34m()\u001b[0m\n\u001b[1;32m      1\u001b[0m \u001b[1;31m# Check that the following test passes - if it fails, you have the wrong amount of data left.\u001b[0m\u001b[1;33m\u001b[0m\u001b[1;33m\u001b[0m\u001b[0m\n\u001b[1;32m      2\u001b[0m \u001b[1;31m#  If so, go back and try to fix your cleaning steps, else your analysis answers will be wrong.\u001b[0m\u001b[1;33m\u001b[0m\u001b[1;33m\u001b[0m\u001b[0m\n\u001b[0;32m----> 3\u001b[0;31m \u001b[1;32massert\u001b[0m \u001b[0mdf\u001b[0m\u001b[1;33m.\u001b[0m\u001b[0mshape\u001b[0m \u001b[1;33m==\u001b[0m \u001b[1;33m(\u001b[0m\u001b[1;36m879\u001b[0m\u001b[1;33m,\u001b[0m \u001b[1;36m4\u001b[0m\u001b[1;33m)\u001b[0m\u001b[1;33m\u001b[0m\u001b[0m\n\u001b[0m",
      "\u001b[0;31mAssertionError\u001b[0m: "
     ]
    }
   ],
   "source": [
    "# Check that the following test passes - if it fails, you have the wrong amount of data left. \n",
    "#  If so, go back and try to fix your cleaning steps, else your analysis answers will be wrong.\n",
    "assert df.shape == (879, 4)"
   ]
  },
  {
   "cell_type": "markdown",
   "metadata": {
    "deletable": false,
    "editable": false,
    "nbgrader": {
     "checksum": "39dca5562c6a258097f024d21f167389",
     "grade": false,
     "grade_id": "part3",
     "locked": true,
     "schema_version": 1,
     "solution": false
    }
   },
   "source": [
    "## Part 3 - Basic Analyses"
   ]
  },
  {
   "cell_type": "code",
   "execution_count": null,
   "metadata": {
    "collapsed": false,
    "deletable": false,
    "nbgrader": {
     "checksum": "cda272ddd508c88f19ca54e7ccdff052",
     "grade": false,
     "grade_id": "calc_corrs",
     "locked": false,
     "schema_version": 1,
     "solution": true
    }
   },
   "outputs": [],
   "source": [
    "# 3a) Calculate the pairwise correlations between all variables. \n",
    "#  Notes: do this with a pandas function. Keep all columns (including ID).\n",
    "\n",
    "# YOUR CODE HERE\n",
    "raise NotImplementedError()"
   ]
  },
  {
   "cell_type": "code",
   "execution_count": null,
   "metadata": {
    "collapsed": false,
    "deletable": false,
    "editable": false,
    "nbgrader": {
     "checksum": "7aba32ac0930cbff5420c92746f23d5f",
     "grade": true,
     "grade_id": "test_calc_corrs",
     "locked": true,
     "points": 0.5,
     "schema_version": 1,
     "solution": false
    }
   },
   "outputs": [],
   "source": [
    "assert isinstance(corrs, pd.DataFrame)\n",
    "assert corrs.shape == (4, 4)"
   ]
  },
  {
   "cell_type": "code",
   "execution_count": null,
   "metadata": {
    "collapsed": false,
    "deletable": false,
    "nbgrader": {
     "checksum": "2c8c745496ca4376411798ee083e69ff",
     "grade": false,
     "grade_id": "plot_scatter",
     "locked": false,
     "schema_version": 1,
     "solution": true
    }
   },
   "outputs": [],
   "source": [
    "# 3b) Plot the data using pandas scatter_matrix, saving it to output variable name 'fd'.\n",
    "# YOUR CODE HERE\n",
    "raise NotImplementedError()"
   ]
  },
  {
   "cell_type": "code",
   "execution_count": null,
   "metadata": {
    "collapsed": false,
    "deletable": false,
    "editable": false,
    "nbgrader": {
     "checksum": "71c61138c5b286376c4f5d31edf73b8a",
     "grade": true,
     "grade_id": "test_plot_scatter",
     "locked": true,
     "points": 0.5,
     "schema_version": 1,
     "solution": false
    }
   },
   "outputs": [],
   "source": [
    "fd[0][0].axes.has_data()"
   ]
  },
  {
   "cell_type": "markdown",
   "metadata": {
    "deletable": false,
    "editable": false,
    "nbgrader": {
     "checksum": "5a94dcdcdaaebf7068dac9163801343e",
     "grade": false,
     "grade_id": "part4",
     "locked": true,
     "schema_version": 1,
     "solution": false
    }
   },
   "source": [
    "# Part 4 - Predictions\n",
    "\n",
    "Notes:\n",
    "- Use the polyfit function from np, in the way that we did in 'SectionMaterials/02-DataAnalysis\n",
    "- The predictions should be in dollars (so you'll have to 'un-log' the prediction)"
   ]
  },
  {
   "cell_type": "code",
   "execution_count": null,
   "metadata": {
    "collapsed": false,
    "deletable": false,
    "nbgrader": {
     "checksum": "94dcee06cb9f655ec570061d32901256",
     "grade": false,
     "grade_id": "model_1",
     "locked": false,
     "schema_version": 1,
     "solution": true
    }
   },
   "outputs": [],
   "source": [
    "# 4a) Use polyfit to fit a 1-degree linear model, predicting income from age.\n",
    "#  Call the output parameters 'a1' and 'b1'\n",
    "# YOUR CODE HERE\n",
    "raise NotImplementedError()"
   ]
  },
  {
   "cell_type": "code",
   "execution_count": null,
   "metadata": {
    "collapsed": false,
    "deletable": false,
    "editable": false,
    "nbgrader": {
     "checksum": "3df06d3f75ce5a17be2287c2b5d3e2cb",
     "grade": true,
     "grade_id": "test_model_1",
     "locked": true,
     "points": 0.5,
     "schema_version": 1,
     "solution": false
    }
   },
   "outputs": [],
   "source": [
    "assert(a1)\n",
    "assert(b1)\n"
   ]
  },
  {
   "cell_type": "code",
   "execution_count": null,
   "metadata": {
    "collapsed": false,
    "deletable": false,
    "nbgrader": {
     "checksum": "902084fb9d8727c3a4ba89f0d99103f4",
     "grade": false,
     "grade_id": "pred_1",
     "locked": false,
     "schema_version": 1,
     "solution": true
    }
   },
   "outputs": [],
   "source": [
    "# 4b) Use the model parameters from 4a to predict the income of a 75 year old. Call your prediction 'pred1'.\n",
    "#  Note: Convert the prediction to be in real dollars (not log dollars)\n",
    "# YOUR CODE HERE\n",
    "raise NotImplementedError()"
   ]
  },
  {
   "cell_type": "code",
   "execution_count": null,
   "metadata": {
    "collapsed": false,
    "deletable": false,
    "editable": false,
    "nbgrader": {
     "checksum": "f793dd0d9cb1e9a0f0bfd8ee602f2a06",
     "grade": true,
     "grade_id": "test_pred_1",
     "locked": true,
     "points": 0.5,
     "schema_version": 1,
     "solution": false
    }
   },
   "outputs": [],
   "source": [
    "assert(pred1)\n"
   ]
  },
  {
   "cell_type": "code",
   "execution_count": null,
   "metadata": {
    "collapsed": false,
    "deletable": false,
    "nbgrader": {
     "checksum": "cd51c7e00e87d1a985b317c46a42d45a",
     "grade": false,
     "grade_id": "model_2",
     "locked": false,
     "schema_version": 1,
     "solution": true
    }
   },
   "outputs": [],
   "source": [
    "# 4c) Use polyfit to fit a 1-degree linear model, predicting income from steps. \n",
    "#  Call the output parameters 'a2' and 'b2'\n",
    "# YOUR CODE HERE\n",
    "raise NotImplementedError()"
   ]
  },
  {
   "cell_type": "code",
   "execution_count": null,
   "metadata": {
    "collapsed": false,
    "deletable": false,
    "editable": false,
    "nbgrader": {
     "checksum": "885999f03208ba183000b8e34344a2bf",
     "grade": true,
     "grade_id": "test_model_2",
     "locked": true,
     "points": 0.25,
     "schema_version": 1,
     "solution": false
    }
   },
   "outputs": [],
   "source": [
    "assert(a2)\n",
    "assert(b2)\n"
   ]
  },
  {
   "cell_type": "code",
   "execution_count": null,
   "metadata": {
    "collapsed": false,
    "deletable": false,
    "nbgrader": {
     "checksum": "1315fecfe04a0fd9c13d160ebe38b928",
     "grade": false,
     "grade_id": "pred_2",
     "locked": false,
     "schema_version": 1,
     "solution": true
    }
   },
   "outputs": [],
   "source": [
    "# 4d) Predict the income of someone who took 20,000 steps. Call your prediction 'pred2'.\n",
    "#  Note: Convert the prediction to be in real dollars (not log dollars)\n",
    "# YOUR CODE HERE\n",
    "raise NotImplementedError()"
   ]
  },
  {
   "cell_type": "code",
   "execution_count": null,
   "metadata": {
    "collapsed": false,
    "deletable": false,
    "editable": false,
    "nbgrader": {
     "checksum": "7279eb6abd899e6070f0ba379fc94413",
     "grade": true,
     "grade_id": "test_pred_2",
     "locked": true,
     "points": 0.25,
     "schema_version": 1,
     "solution": false
    }
   },
   "outputs": [],
   "source": [
    "assert(pred2)\n"
   ]
  },
  {
   "cell_type": "code",
   "execution_count": null,
   "metadata": {
    "collapsed": true,
    "deletable": false,
    "nbgrader": {
     "checksum": "3dd19a2275a23864be5fa456b0d4d1f6",
     "grade": false,
     "grade_id": "better_model",
     "locked": false,
     "schema_version": 1,
     "solution": true
    }
   },
   "outputs": [],
   "source": [
    "# 4e) Based on your analysis in Part 3, which model do you think is more likely to have made a good prediction?\n",
    "#  Create a variable called 'better_model', and set it equal to 'age' or 'steps', whichever your answer is.\n",
    "# YOUR CODE HERE\n",
    "raise NotImplementedError()"
   ]
  },
  {
   "cell_type": "code",
   "execution_count": null,
   "metadata": {
    "collapsed": false,
    "deletable": false,
    "editable": false,
    "nbgrader": {
     "checksum": "08b59e3cfd40623dae18307982421ef3",
     "grade": true,
     "grade_id": "test_better_model",
     "locked": true,
     "points": 0.5,
     "schema_version": 1,
     "solution": false
    }
   },
   "outputs": [],
   "source": [
    "assert better_model"
   ]
  },
  {
   "cell_type": "markdown",
   "metadata": {
    "deletable": false,
    "editable": false,
    "nbgrader": {
     "checksum": "9b5168bc14f9c46b924251367a45adff",
     "grade": false,
     "grade_id": "model_q",
     "locked": true,
     "schema_version": 1,
     "solution": false
    }
   },
   "source": [
    "### M4 - Why do you think (whichever model you answered) is better?"
   ]
  },
  {
   "cell_type": "markdown",
   "metadata": {
    "deletable": false,
    "nbgrader": {
     "checksum": "7b3180949c3c802092447f7c5c73860c",
     "grade": true,
     "grade_id": "model_ans",
     "locked": false,
     "points": 0,
     "schema_version": 1,
     "solution": true
    }
   },
   "source": [
    "YOUR ANSWER HERE"
   ]
  },
  {
   "cell_type": "markdown",
   "metadata": {
    "deletable": false,
    "editable": false,
    "nbgrader": {
     "checksum": "134fe3be4538bbbba159c11171994d6c",
     "grade": false,
     "grade_id": "done",
     "locked": true,
     "schema_version": 1,
     "solution": false
    }
   },
   "source": [
    "## Done! Upload this notebook to TritonED"
   ]
  }
 ],
 "metadata": {
  "kernelspec": {
   "display_name": "Python 3",
   "language": "python",
   "name": "python3"
  },
  "language_info": {
   "codemirror_mode": {
    "name": "ipython",
    "version": 3
   },
   "file_extension": ".py",
   "mimetype": "text/x-python",
   "name": "python",
   "nbconvert_exporter": "python",
   "pygments_lexer": "ipython3",
   "version": "3.6.0"
  }
 },
 "nbformat": 4,
 "nbformat_minor": 2
}
